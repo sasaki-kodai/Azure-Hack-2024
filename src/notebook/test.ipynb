{
 "cells": [
  {
   "cell_type": "code",
   "execution_count": 1,
   "metadata": {},
   "outputs": [],
   "source": [
    "from openai import AzureOpenAI\n",
    "import os\n",
    "from dotenv import load_dotenv\n",
    "load_dotenv()"
   ]
  },
  {
   "cell_type": "code",
   "execution_count": 2,
   "metadata": {},
   "outputs": [],
   "source": [
    "# Azure OpenAIのGPT-4を使って文章生成できるかテスト\n",
    "client = AzureOpenAI(\n",
    "  azure_endpoint = os.getenv(\"AZURE_OPENAI_ENDPOINT\"), \n",
    "  api_key=os.getenv(\"AZURE_OPENAI_API_KEY\"),  \n",
    "  api_version=\"2024-02-01\"\n",
    ")"
   ]
  },
  {
   "cell_type": "code",
   "execution_count": 4,
   "metadata": {},
   "outputs": [
    {
     "name": "stdout",
     "output_type": "stream",
     "text": [
      "Yes, several Azure AI services support the use of customer-managed keys, also known as Bring Your Own Key (BYOK). This feature allows customers to control the encryption keys used to protect their data at rest. Services that typically support customer-managed keys include:\n",
      "\n",
      "1. **Azure Cognitive Services**: Certain services within Azure Cognitive Services allow customers to control their encryption keys, enhancing security and compliance for sensitive data.\n",
      "   \n",
      "2. **Azure Machine Learning**: Allows encryption of stored data using customer-managed keys for improved security and compliance.\n",
      "\n",
      "3. **Azure Blob Storage**: While not exclusively an AI service, Azure Blob Storage often serves as the backend for storing large datasets used by AI and machine learning applications. It supports customer-managed keys for encrypting data at rest.\n",
      "\n",
      "It's important to note that the support and implementation details can vary between services. Users are encouraged to review the specific documentation for each Azure AI service to understand how customer-managed keys can be implemented and what the implications are for security, performance, and compliance within their specific context.\n",
      "\n",
      "Azure keeps updating its services and features, including security and compliance offerings. Therefore, for the most current information, checking the official Azure documentation or reaching out to Azure support is advisable.\n"
     ]
    }
   ],
   "source": [
    "\n",
    "response = client.chat.completions.create(\n",
    "    model=\"gpt-4\", # model = \"deployment_name\".\n",
    "    messages=[\n",
    "        {\"role\": \"system\", \"content\": \"You are a helpful assistant.\"},\n",
    "        {\"role\": \"user\", \"content\": \"Does Azure OpenAI support customer managed keys?\"},\n",
    "        {\"role\": \"assistant\", \"content\": \"Yes, customer managed keys are supported by Azure OpenAI.\"},\n",
    "        {\"role\": \"user\", \"content\": \"Do other Azure AI services support this too?\"}\n",
    "    ]\n",
    ")\n",
    "\n",
    "print(response.choices[0].message.content)"
   ]
  },
  {
   "cell_type": "code",
   "execution_count": null,
   "metadata": {},
   "outputs": [],
   "source": []
  },
  {
   "cell_type": "code",
   "execution_count": null,
   "metadata": {},
   "outputs": [],
   "source": []
  }
 ],
 "metadata": {
  "kernelspec": {
   "display_name": "Python 3",
   "language": "python",
   "name": "python3"
  },
  "language_info": {
   "codemirror_mode": {
    "name": "ipython",
    "version": 3
   },
   "file_extension": ".py",
   "mimetype": "text/x-python",
   "name": "python",
   "nbconvert_exporter": "python",
   "pygments_lexer": "ipython3",
   "version": "3.11.9"
  }
 },
 "nbformat": 4,
 "nbformat_minor": 2
}
