{
 "cells": [
  {
   "cell_type": "code",
   "execution_count": 1,
   "metadata": {},
   "outputs": [
    {
     "data": {
      "text/plain": [
       "True"
      ]
     },
     "execution_count": 1,
     "metadata": {},
     "output_type": "execute_result"
    }
   ],
   "source": [
    "from openai import AzureOpenAI\n",
    "import os\n",
    "from dotenv import load_dotenv\n",
    "load_dotenv()"
   ]
  },
  {
   "cell_type": "markdown",
   "metadata": {},
   "source": [
    "Azure-Hack-2024/.env内にAZURE_OPENAI_ENDPOINTとAZURE_OPENAI_API_KEYを置いている前提"
   ]
  },
  {
   "cell_type": "code",
   "execution_count": 2,
   "metadata": {},
   "outputs": [],
   "source": [
    "# Azure OpenAIのGPT-4を使って文章生成できるかテスト\n",
    "client = AzureOpenAI(\n",
    "  azure_endpoint = os.getenv(\"AZURE_OPENAI_ENDPOINT\"), \n",
    "  api_key=os.getenv(\"AZURE_OPENAI_API_KEY\"),  \n",
    "  api_version=\"2024-02-01\"\n",
    ")"
   ]
  },
  {
   "cell_type": "code",
   "execution_count": 3,
   "metadata": {},
   "outputs": [
    {
     "name": "stdout",
     "output_type": "stream",
     "text": [
      "Yes, several other Azure AI services support customer-managed keys (CMK) for enhanced security and compliance. Customer-managed keys allow users to control and manage the encryption keys used to encrypt data at rest in the cloud, providing an additional layer of security and compliance.\n",
      "\n",
      "For example:\n",
      "\n",
      "1. **Azure Cognitive Services**: Some services within Azure Cognitive Services allow customers to encrypt data at rest using their own keys managed in Azure Key Vault. This feature provides additional control over the security of the data processed by these services.\n",
      "   \n",
      "2. **Azure Machine Learning**: Supports customer-managed keys for encrypting data in the workspace, providing additional control and security over the machine learning assets and data stored in Azure.\n",
      "\n",
      "The availability and implementation of customer-managed keys can vary between different Azure AI services and features within those services. It’s always a good practice to review the specific documentation for each Azure AI service you're interested in to understand the support for customer-managed keys and how to configure them. This ensures that your data security and compliance requirements are met while using Azure's cloud services.\n"
     ]
    }
   ],
   "source": [
    "\n",
    "response = client.chat.completions.create(\n",
    "    model=\"gpt-4\", # model = \"deployment_name\".\n",
    "    messages=[\n",
    "        {\"role\": \"system\", \"content\": \"You are a helpful assistant.\"},\n",
    "        {\"role\": \"user\", \"content\": \"Does Azure OpenAI support customer managed keys?\"},\n",
    "        {\"role\": \"assistant\", \"content\": \"Yes, customer managed keys are supported by Azure OpenAI.\"},\n",
    "        {\"role\": \"user\", \"content\": \"Do other Azure AI services support this too?\"}\n",
    "    ]\n",
    ")\n",
    "\n",
    "print(response.choices[0].message.content)"
   ]
  },
  {
   "cell_type": "code",
   "execution_count": 4,
   "metadata": {},
   "outputs": [],
   "source": [
    "# azure ai search を使って検索できるかテスト\n",
    "# https://pypi.org/project/azure-search-documents/\n",
    "from azure.core.credentials import AzureKeyCredential\n",
    "from azure.search.documents import SearchClient"
   ]
  },
  {
   "cell_type": "code",
   "execution_count": 5,
   "metadata": {},
   "outputs": [],
   "source": [
    "service_endpoint = os.environ[\"AZURE_SEARCH_SERVICE_ENDPOINT\"]\n",
    "index_name = os.environ[\"AZURE_SEARCH_INDEX_NAME\"]\n",
    "key = os.environ[\"AZURE_SEARCH_API_KEY\"]"
   ]
  },
  {
   "cell_type": "code",
   "execution_count": 6,
   "metadata": {},
   "outputs": [],
   "source": [
    "search_client = SearchClient(service_endpoint, index_name, AzureKeyCredential(key))"
   ]
  },
  {
   "cell_type": "code",
   "execution_count": 7,
   "metadata": {},
   "outputs": [],
   "source": [
    "results = search_client.search(search_text=\"nameがそうなんだ\", top=5,logging_enable=True)"
   ]
  },
  {
   "cell_type": "code",
   "execution_count": 8,
   "metadata": {},
   "outputs": [
    {
     "name": "stdout",
     "output_type": "stream",
     "text": [
      "{'form': 'アローラのすがた', 'isMegaEvolution': False, 'no': 50, 'rid': 'UlpkN0FKSkcwcXRCQUFBQUFBQUFBQT090', 'id': 'a8051759-185a-4c2f-89f0-3a59d21e9a66', 'stats': {'hp': 10, 'attack': 55, 'defence': 30, 'spAttack': 35, 'spDefence': 45, 'speed': 90}, 'name': 'ディグダ', 'types': ['じめん', 'はがね'], 'hiddenAbilities': ['すなのちから'], 'evolutions': [51], 'abilities': ['すながくれ', 'カーリーヘアー'], '@search.score': 11.906606, '@search.reranker_score': None, '@search.highlights': None, '@search.captions': None}\n",
      "{'form': '', 'isMegaEvolution': False, 'no': 232, 'rid': 'UlpkN0FKSkcwcXNQQVFBQUFBQUFBQT090', 'id': 'f0f8b825-091c-4067-9166-a20dafdfd28f', 'stats': {'hp': 90, 'attack': 120, 'defence': 120, 'spAttack': 60, 'spDefence': 60, 'speed': 50}, 'name': 'ドンファン', 'types': ['じめん'], 'hiddenAbilities': ['すながくれ'], 'evolutions': [], 'abilities': ['がんじょう'], '@search.score': 11.639136, '@search.reranker_score': None, '@search.highlights': None, '@search.captions': None}\n",
      "{'form': '', 'isMegaEvolution': False, 'no': 75, 'rid': 'UlpkN0FKSkcwcXRmQUFBQUFBQUFBQT090', 'id': 'fdf839be-3cf9-4909-b41b-2711d00e6dcb', 'stats': {'hp': 55, 'attack': 95, 'defence': 115, 'spAttack': 45, 'spDefence': 45, 'speed': 35}, 'name': 'ゴローン', 'types': ['いわ', 'じめん'], 'hiddenAbilities': ['すながくれ'], 'evolutions': [76], 'abilities': ['いしあたま', 'がんじょう'], '@search.score': 11.162064, '@search.reranker_score': None, '@search.highlights': None, '@search.captions': None}\n",
      "{'form': 'アローラのすがた', 'isMegaEvolution': False, 'no': 51, 'rid': 'UlpkN0FKSkcwcXREQUFBQUFBQUFBQT090', 'id': 'f369b6cb-e7b2-4175-9e08-61e4cd5fe2a3', 'stats': {'hp': 35, 'attack': 100, 'defence': 60, 'spAttack': 50, 'spDefence': 70, 'speed': 110}, 'name': 'ダグトリオ', 'types': ['じめん', 'はがね'], 'hiddenAbilities': ['すなのちから'], 'evolutions': [], 'abilities': ['すながくれ', 'カーリーヘアー'], '@search.score': 10.831186, '@search.reranker_score': None, '@search.highlights': None, '@search.captions': None}\n",
      "{'form': '', 'isMegaEvolution': False, 'no': 618, 'rid': 'UlpkN0FKSkcwcXU4QWdBQUFBQUFBQT090', 'id': '67697f29-d96b-4fb6-87e5-ec048711e500', 'stats': {'hp': 109, 'attack': 66, 'defence': 84, 'spAttack': 81, 'spDefence': 99, 'speed': 32}, 'name': 'マッギョ', 'types': ['じめん', 'でんき'], 'hiddenAbilities': ['すながくれ'], 'evolutions': [], 'abilities': ['せいでんき', 'じゅうなん'], '@search.score': 10.8150835, '@search.reranker_score': None, '@search.highlights': None, '@search.captions': None}\n"
     ]
    }
   ],
   "source": [
    "for result in results:\n",
    "    print(result)"
   ]
  },
  {
   "cell_type": "code",
   "execution_count": null,
   "metadata": {},
   "outputs": [],
   "source": []
  },
  {
   "cell_type": "code",
   "execution_count": null,
   "metadata": {},
   "outputs": [],
   "source": []
  }
 ],
 "metadata": {
  "kernelspec": {
   "display_name": "env_azure",
   "language": "python",
   "name": "env_azure"
  },
  "language_info": {
   "codemirror_mode": {
    "name": "ipython",
    "version": 3
   },
   "file_extension": ".py",
   "mimetype": "text/x-python",
   "name": "python",
   "nbconvert_exporter": "python",
   "pygments_lexer": "ipython3",
   "version": "3.11.7"
  }
 },
 "nbformat": 4,
 "nbformat_minor": 2
}
